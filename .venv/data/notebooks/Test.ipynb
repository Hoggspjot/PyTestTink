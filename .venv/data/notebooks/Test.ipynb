{
 "cells": [
  {
   "cell_type": "code",
   "execution_count": null,
   "id": "0",
   "metadata": {},
   "outputs": [],
   "source": [
    "import pandas as pd\n",
    "from matplotlib import pyplot as plt\n",
    "import seaborn as sns\n",
    "import plotly.graph_objects as go\n",
    "from matplotlib.pyplot import table\n",
    "%matplotlib inline"
   ]
  },
  {
   "cell_type": "code",
   "execution_count": null,
   "id": "1",
   "metadata": {},
   "outputs": [],
   "source": [
    "df = pd.read_csv(r'C:\\PythonProject\\churn-analysis\\.venv\\data\\raw\\WA_Fn-UseC_-Telco-Customer-Churn.csv')\n",
    "df.head()"
   ]
  },
  {
   "cell_type": "code",
   "execution_count": null,
   "id": "2",
   "metadata": {},
   "outputs": [],
   "source": [
    "df.info()"
   ]
  },
  {
   "cell_type": "code",
   "execution_count": null,
   "id": "3",
   "metadata": {},
   "outputs": [],
   "source": [
    "df['TotalCharges'] = pd.to_numeric(df['TotalCharges'],errors='coerce')"
   ]
  },
  {
   "cell_type": "code",
   "execution_count": null,
   "id": "4",
   "metadata": {},
   "outputs": [],
   "source": [
    "df.info()\n"
   ]
  },
  {
   "cell_type": "code",
   "execution_count": null,
   "id": "5",
   "metadata": {},
   "outputs": [],
   "source": [
    "plt.hist(df['MonthlyCharges'])\n",
    "plt.show()"
   ]
  },
  {
   "cell_type": "code",
   "execution_count": null,
   "id": "6",
   "metadata": {},
   "outputs": [],
   "source": [
    "plt.hist(df['MonthlyCharges'],edgecolor='k')\n",
    "plt.title('Распределение месячной платы за услуги')\n",
    "plt.xlabel('плата в месяц, $')\n",
    "plt.ylabel('кол-во наблюдений')\n",
    "plt.grid()"
   ]
  },
  {
   "cell_type": "code",
   "execution_count": null,
   "id": "7",
   "metadata": {},
   "outputs": [],
   "source": [
    "pic = sns.histplot(data=df,x='MonthlyCharges')\n",
    "pic.set(xlabel =\"плата в месяц, $\", ylabel = \"кол-во наблюдений\", title = 'распределение меячной платы за услуги')\n",
    "plt.grid()"
   ]
  },
  {
   "cell_type": "code",
   "execution_count": null,
   "id": "8",
   "metadata": {},
   "outputs": [],
   "source": [
    "pic = sns.histplot(data=df,x='MonthlyCharges', hue = 'SeniorCitizen')\n",
    "pic.set(xlabel =\"плата в месяц, $\", ylabel = \"кол-во наблюдений\", title = 'распределение меячной платы за услуги')\n",
    "plt.grid()"
   ]
  },
  {
   "cell_type": "code",
   "execution_count": null,
   "id": "9",
   "metadata": {},
   "outputs": [],
   "source": [
    "hist = go.Histogram(x=df['MonthlyCharges'], nbinsx=20)\n",
    "fig = go.Figure(data=hist)\n",
    "\n",
    "fig.update_layout(\n",
    "    width=600,\n",
    "    height=400,\n",
    "    title='Распределение платы за услуги компании',\n",
    "    xaxis_title='Плата за услуги',\n",
    "    yaxis_title='Кол-во наблюдений'\n",
    ")\n",
    "fig.show()"
   ]
  },
  {
   "cell_type": "code",
   "execution_count": null,
   "id": "10",
   "metadata": {},
   "outputs": [],
   "source": [
    "df.hist()"
   ]
  },
  {
   "cell_type": "code",
   "execution_count": null,
   "id": "11",
   "metadata": {},
   "outputs": [],
   "source": [
    "df['PaymentMethod'].value_counts()"
   ]
  },
  {
   "cell_type": "code",
   "execution_count": null,
   "id": "12",
   "metadata": {},
   "outputs": [],
   "source": [
    "sns.countplot(y=df['PaymentMethod'])"
   ]
  },
  {
   "cell_type": "code",
   "execution_count": null,
   "id": "13",
   "metadata": {},
   "outputs": [],
   "source": [
    "df['PaymentMethod'].value_counts().head(3).index"
   ]
  },
  {
   "cell_type": "code",
   "execution_count": null,
   "id": "14",
   "metadata": {},
   "outputs": [],
   "source": [
    "sns.countplot(df[df['PaymentMethod'].isin(df['PaymentMethod'].value_counts().head(3).index)]['PaymentMethod'])"
   ]
  },
  {
   "cell_type": "code",
   "execution_count": null,
   "id": "15",
   "metadata": {},
   "outputs": [],
   "source": [
    "df1=df.groupby('tenure').agg({'TotalCharges':'mean'}).reset_index()\n",
    "df1.head()"
   ]
  },
  {
   "cell_type": "code",
   "execution_count": null,
   "id": "16",
   "metadata": {},
   "outputs": [],
   "source": [
    "line = go.Scatter(x=df1['tenure'], y=df1['TotalCharges'], mode='lines')\n",
    "fig=go.Figure(data=line)\n",
    "\n",
    "fig.update_layout(\n",
    "    autosize=False,\n",
    "    width=700,\n",
    "    height=400,\n",
    "    title='Зависимость средни выплат клиента от времени жизни с компанией',\n",
    "    xaxis_title='месяцев с подкл услугами',\n",
    "    yaxis_title='средние выплаты клиента'\n",
    ")"
   ]
  },
  {
   "cell_type": "code",
   "execution_count": null,
   "id": "17",
   "metadata": {},
   "outputs": [],
   "source": [
    "plt.scatter(df['MonthlyCharges'],df['tenure']);\n",
    "plt.xlabel('месячная плата')\n",
    "plt.ylabel('Срок жизни клиента в компании, мес')"
   ]
  },
  {
   "cell_type": "code",
   "execution_count": null,
   "id": "18",
   "metadata": {},
   "outputs": [],
   "source": [
    "df['Churn'].map({'No':'blue', 'Yes':'orange'}).head()"
   ]
  },
  {
   "cell_type": "code",
   "execution_count": null,
   "id": "19",
   "metadata": {},
   "outputs": [],
   "source": [
    "plt.figure(figsize=(8,6))\n",
    "plt.scatter(df['MonthlyCharges'],df['tenure'],\n",
    "            color=df['Churn'].map({'No':'blue', 'Yes':'red'}),\n",
    "            alpha=0.6)\n",
    "plt.title('Распределение срока жизни клиента и средн платы по тарифу')\n",
    "plt.xlabel('Месячная плата по тарифу')\n",
    "plt.ylabel('Срок жизни клиента в компании')\n",
    "plt.show()"
   ]
  },
  {
   "cell_type": "code",
   "execution_count": null,
   "id": "20",
   "metadata": {},
   "outputs": [],
   "source": [
    "df[df['Churn']=='Yes'].head()"
   ]
  },
  {
   "cell_type": "code",
   "execution_count": null,
   "id": "21",
   "metadata": {},
   "outputs": [],
   "source": [
    "sns.boxplot(x='Churn',y='MonthlyCharges',data=df)\n"
   ]
  },
  {
   "cell_type": "code",
   "execution_count": null,
   "id": "22",
   "metadata": {},
   "outputs": [],
   "source": [
    "df['churn_flag']=df['Churn'].map({'Yes':1,'No':0})"
   ]
  },
  {
   "cell_type": "code",
   "execution_count": null,
   "id": "23",
   "metadata": {},
   "outputs": [],
   "source": [
    "table=pd.pivot_table(data=df,index='InternetService',columns='Contract',values='churn_flag',aggfunc='mean')\n",
    "table"
   ]
  },
  {
   "cell_type": "code",
   "execution_count": null,
   "id": "24",
   "metadata": {},
   "outputs": [],
   "source": [
    "sns.heatmap(table)"
   ]
  },
  {
   "cell_type": "code",
   "execution_count": null,
   "id": "25",
   "metadata": {},
   "outputs": [],
   "source": [
    "sns.barplot(data=df, x='SeniorCitizen', y='churn_flag', estimator='mean', errorbar=None, palette='Blues')\n",
    "\n",
    "# Оформление\n",
    "plt.title('Доля ушедших клиентов (Churn) по статусу пенсионера')\n",
    "plt.xlabel('SeniorCitizen (0 = Нет, 1 = Да)')\n",
    "plt.ylabel('Доля ушедших клиентов')\n",
    "plt.xticks([0, 1], ['Не пенсионер', 'Пенсионер'])\n",
    "plt.show()"
   ]
  },
  {
   "cell_type": "code",
   "execution_count": null,
   "id": "26",
   "metadata": {},
   "outputs": [],
   "source": [
    "sns.catplot(data=df, x='SeniorCitizen', hue='Churn', kind='count', palette='Set1')\n",
    "plt.title('Количество ушедших и оставшихся по статусу пенсионера')\n",
    "plt.xticks([0, 1], ['Не пенсионер', 'Пенсионер'])\n",
    "plt.show()"
   ]
  },
  {
   "cell_type": "code",
   "execution_count": null,
   "id": "27",
   "metadata": {},
   "outputs": [],
   "source": [
    "services = [\n",
    "    'OnlineSecurity', 'OnlineBackup', 'DeviceProtection',\n",
    "    'TechSupport', 'StreamingTV', 'StreamingMovies'\n",
    "]\n",
    "\n",
    "# Заменяем 'Yes' → 1, остальное (включая 'No internet service') → 0\n",
    "df['NumServices'] = df[services].applymap(lambda x: 1 if x == 'Yes' else 0).sum(axis=1)\n"
   ]
  },
  {
   "cell_type": "code",
   "execution_count": null,
   "id": "28",
   "metadata": {},
   "outputs": [],
   "source": [
    "df_internet = df[df['InternetService'] != 'No'].copy()"
   ]
  },
  {
   "cell_type": "code",
   "execution_count": null,
   "id": "29",
   "metadata": {},
   "outputs": [],
   "source": [
    "df_internet['churn_flag'] = df_internet['Churn'].map({'Yes': 1, 'No': 0})\n",
    "\n",
    "# Группируем по типу интернета и числу услуг\n",
    "grouped = df_internet.groupby(['InternetService', 'NumServices'], as_index=False)['churn_flag'].mean()"
   ]
  },
  {
   "cell_type": "code",
   "execution_count": null,
   "id": "30",
   "metadata": {},
   "outputs": [],
   "source": [
    "plt.figure(figsize=(10, 6))\n",
    "sns.lineplot(\n",
    "    data=grouped,\n",
    "    x='NumServices',\n",
    "    y='churn_flag',\n",
    "    hue='InternetService',\n",
    "    marker='o',\n",
    "    linewidth=2.5,\n",
    "    palette='Set1'\n",
    ")\n",
    "\n",
    "plt.title('Доля оттока в зависимости от количества подключённых услуг\\n(среди клиентов с интернетом)', fontsize=14)\n",
    "plt.xlabel('Количество подключённых услуг')\n",
    "plt.ylabel('Доля ушедших клиентов (Churn Rate)')\n",
    "plt.xticks(range(0, 7))\n",
    "plt.grid(alpha=0.3)\n",
    "plt.legend(title='Тип интернета')\n",
    "plt.show()"
   ]
  },
  {
   "cell_type": "code",
   "execution_count": null,
   "id": "31",
   "metadata": {},
   "outputs": [],
   "source": [
    "# Фильтр: только пенсионеры\n",
    "seniors = df[df['SeniorCitizen'] == 1]\n",
    "\n",
    "# Доля ушедших (Churn == 'Yes')\n",
    "churn_rate_seniors = (seniors['Churn'] == 'Yes').mean()\n",
    "\n",
    "# В процентах, округлённо до целых\n",
    "churn_rate_seniors_percent = round(churn_rate_seniors * 100)\n",
    "print(churn_rate_seniors_percent)"
   ]
  },
  {
   "cell_type": "code",
   "execution_count": null,
   "id": "32",
   "metadata": {},
   "outputs": [],
   "source": [
    "senior_customers = df[df['SeniorCitizen'] == 1]\n",
    "\n",
    "# Считаем долю ушедших (Churn == 'Yes')\n",
    "churn_rate = (senior_customers['Churn'] == 'Yes').mean()\n",
    "\n",
    "# Переводим в проценты и округляем до целого\n",
    "churn_rate_percent = round(churn_rate * 100)\n",
    "\n",
    "print(churn_rate_percent)"
   ]
  }
 ],
 "metadata": {
  "kernelspec": {
   "display_name": "Python 3",
   "language": "python",
   "name": "python3"
  },
  "language_info": {
   "codemirror_mode": {
    "name": "ipython",
    "version": 2
   },
   "file_extension": ".py",
   "mimetype": "text/x-python",
   "name": "python",
   "nbconvert_exporter": "python",
   "pygments_lexer": "ipython2",
   "version": "2.7.6"
  }
 },
 "nbformat": 4,
 "nbformat_minor": 5
}
